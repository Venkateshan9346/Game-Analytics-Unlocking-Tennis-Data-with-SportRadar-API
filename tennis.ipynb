{
 "cells": [
  {
   "cell_type": "code",
   "execution_count": 1,
   "metadata": {},
   "outputs": [],
   "source": [
    "import requests#hyper text tranfer protocol\n",
    "import pandas as pd\n",
    "import psycopg2"
   ]
  },
  {
   "cell_type": "markdown",
   "metadata": {},
   "source": [
    "data extract"
   ]
  },
  {
   "cell_type": "markdown",
   "metadata": {},
   "source": [
    "first data=competition,category"
   ]
  },
  {
   "cell_type": "code",
   "execution_count": null,
   "metadata": {},
   "outputs": [],
   "source": [
    "\n",
    "# API URL\n",
    "url = \"https://api.sportradar.com/tennis/trial/v3/en/competitions.json?api_key=z2N24Ttb6eFyBTodloCy33iXUDGK07nZwWVMnq6t\"\n",
    "\n",
    "# API request\n",
    "def fetch_data(url):\n",
    "    response = requests.get(url)\n",
    "    if response.status_code == 200:\n",
    "        return response.json()\n",
    "    else:\n",
    "        raise Exception(f\"Error-statuscode: {response.status_code}\")\n",
    "try:\n",
    "    data = fetch_data(url)#json-dic\n",
    "\n",
    "    competitions = data.get(\"competitions\", [])\n",
    "\n",
    "    # separate lists  \n",
    "    competition_details = []#competition details\n",
    "    category_details = []#category details\n",
    "\n",
    "    for competition in competitions:\n",
    "        comp_detail = {\n",
    "            \"competition_id\": competition.get(\"id\"),\n",
    "            \"competition_name\": competition.get(\"name\"),\n",
    "            \"parent_id\":competition.get(\"parent_id\"),\n",
    "            \"type\": competition.get(\"type\"),\n",
    "            \"gender\": competition.get(\"gender\"),\n",
    "            \"category_id\" : competition.get(\"category\",{}).get(\"id\"),\n",
    "        }\n",
    "        competition_details.append(comp_detail)\n",
    "\n",
    "        \n",
    "        category = competition.get(\"category\", {})\n",
    "        category_detail = {\n",
    "            \"category_id\": category.get(\"id\"),\n",
    "            \"category_name\": category.get(\"name\"),\n",
    "        }\n",
    "        category_details.append(category_detail)\n",
    "    print(\"data inserted succesfully\")\n",
    "except Exception as e:\n",
    "    print(e)"
   ]
  },
  {
   "cell_type": "markdown",
   "metadata": {},
   "source": [
    "second data=competitior_ranking_table,competitors_table"
   ]
  },
  {
   "cell_type": "code",
   "execution_count": null,
   "metadata": {},
   "outputs": [],
   "source": [
    "\n",
    "url = \"https://api.sportradar.com/tennis/trial/v3/en/double_competitors_rankings.json?api_key=z2N24Ttb6eFyBTodloCy33iXUDGK07nZwWVMnq6t\"\n",
    "\n",
    "def fetch_data(url):\n",
    "    response=requests.get(url)\n",
    "    if response.status_code==200:\n",
    "        return response.json()\n",
    "    else:\n",
    "        raise Exception (f\"Error:{response.status_code}\")\n",
    "try:\n",
    "    data=fetch_data(url)\n",
    "\n",
    "    Competitors_Table=[]\n",
    "    Competitor_Rankings_Table=[]\n",
    "\n",
    "    for ranking in data.get(\"rankings\", []):\n",
    "        for competitor_ranking in ranking.get(\"competitor_rankings\", []):\n",
    "            Rank_data = {\n",
    "                \"rank\": competitor_ranking.get(\"rank\"),\n",
    "                \"movement\": competitor_ranking.get(\"movement\"),\n",
    "                \"points\": competitor_ranking.get(\"points\"),\n",
    "                \"competitions_played\": competitor_ranking.get(\"competitions_played\"),\n",
    "                \"competitor_id\": competitor_ranking[\"competitor\"].get(\"id\"),\n",
    "            }\n",
    "            Competitor_Rankings_Table.append(Rank_data)\n",
    "                \n",
    "            compi= competitor_ranking.get(\"competitor\",{})\n",
    "            compx_info={\n",
    "                \"competitor_id\":compi.get(\"id\"),\n",
    "                \"name\":compi.get(\"name\"),\n",
    "                \"country\":compi.get(\"country\"),\n",
    "                \"country_code\":compi.get(\"country_code\"),\n",
    "                \"abbreviation\":compi.get(\"abbreviation\")\n",
    "            }\n",
    "            Competitors_Table.append(compx_info)\n",
    "    print(\"Data is Success\")\n",
    "except Exception as e:\n",
    "     print(e)"
   ]
  },
  {
   "cell_type": "markdown",
   "metadata": {},
   "source": [
    "third data=complex_details_,venue_details"
   ]
  },
  {
   "cell_type": "code",
   "execution_count": null,
   "metadata": {},
   "outputs": [],
   "source": [
    "\n",
    "url = \"https://api.sportradar.com/tennis/trial/v3/en/complexes.json?api_key=z2N24Ttb6eFyBTodloCy33iXUDGK07nZwWVMnq6t\"\n",
    "\n",
    "# API request\n",
    "def fetch_data(url):\n",
    "    response = requests.get(url)\n",
    "    if response.status_code == 200:\n",
    "        return response.json()\n",
    "    else:\n",
    "        raise Exception(f\"Error-statuscode: {response.status_code}\")\n",
    "try:\n",
    "    data=fetch_data(url)#json-dic\n",
    "\n",
    "    complex_details = []#complex_details details\n",
    "    venue_details = []#venue_details details\n",
    "\n",
    "    complexes = data.get(\"complexes\", [])\n",
    "    for complex_item in complexes:\n",
    "        comp_details={\n",
    "            \"complex_id\":complex_item.get(\"id\"),\n",
    "            \"complex_name\":complex_item.get(\"name\")\n",
    "        }\n",
    "        complex_details.append(comp_details)\n",
    "\n",
    "        venues = complex_item.get(\"venues\", [])\n",
    "        for venue in venues:\n",
    "                venue_detail = {\n",
    "                    \"venue_id\": venue.get(\"id\"),\n",
    "                    \"venue_name\": venue.get(\"name\"),\n",
    "                    \"city_name\": venue.get(\"city_name\"),\n",
    "                    \"country_name\": venue.get(\"country_name\"),\n",
    "                    \"country_code\": venue.get(\"country_code\"),\n",
    "                    \"timezone\": venue.get(\"timezone\"),\n",
    "                    \"complex_id\": complex_item.get(\"id\")  \n",
    "                }\n",
    "                venue_details.append(venue_detail)\n",
    "    print(\"data inserted succesfully\")\n",
    "except Exception as e:\n",
    "    print(e)"
   ]
  },
  {
   "cell_type": "markdown",
   "metadata": {},
   "source": [
    "convert to CSV using pandas "
   ]
  },
  {
   "cell_type": "markdown",
   "metadata": {},
   "source": [
    "first data=competition,category"
   ]
  },
  {
   "cell_type": "code",
   "execution_count": 5,
   "metadata": {},
   "outputs": [],
   "source": [
    "pd.DataFrame(competition_details).to_csv('competition_details.csv', index=False)\n",
    "pd.DataFrame(category_details).to_csv('category_details.csv',index=False)"
   ]
  },
  {
   "cell_type": "markdown",
   "metadata": {},
   "source": [
    "third data=complex_details_,venue_details"
   ]
  },
  {
   "cell_type": "code",
   "execution_count": 6,
   "metadata": {},
   "outputs": [],
   "source": [
    "pd.DataFrame(complex_details).to_csv(\"complex_details.csv\",index=False)\n",
    "pd.DataFrame(venue_details).to_csv(\"venue_details.csv\",index=False)"
   ]
  },
  {
   "cell_type": "markdown",
   "metadata": {},
   "source": [
    "second data=competitior_ranking_table,competitors_table"
   ]
  },
  {
   "cell_type": "code",
   "execution_count": 7,
   "metadata": {},
   "outputs": [],
   "source": [
    "pd.DataFrame(Competitor_Rankings_Table).to_csv('Competitor_Rankings_Table.csv',index=False)\n",
    "pd.DataFrame(Competitors_Table).to_csv('Competitors_Table.csv',index=False)"
   ]
  },
  {
   "cell_type": "code",
   "execution_count": null,
   "metadata": {},
   "outputs": [],
   "source": [
    "connection = psycopg2.connect(\n",
    "    host=\"localhost\",\n",
    "    user=\"postgres\",\n",
    "    password=\"9346\"\n",
    ")\n",
    "\n",
    "connection.autocommit=True\n",
    "\n",
    "cursor = connection.cursor()\n",
    "data_base=(\"create database BigData\")\n",
    "cursor.execute(data_base)\n",
    "print(\"Data base created\")\n",
    "cursor.close()\n",
    "connection.close()\n",
    "\n"
   ]
  },
  {
   "cell_type": "markdown",
   "metadata": {},
   "source": [
    "inserting table into sql_1"
   ]
  },
  {
   "cell_type": "code",
   "execution_count": null,
   "metadata": {},
   "outputs": [],
   "source": [
    "connection=psycopg2.connect(\n",
    "    host=\"localhost\",\n",
    "    database=\"bigdata\",\n",
    "    user=\"postgres\",\n",
    "    password=\"9346\"\n",
    ")\n",
    "\n",
    "connection.autocommit=True\n",
    "cursor=connection.cursor()\n",
    "\n",
    "cursor.execute(\"\"\"\n",
    "    CREATE TABLE categories (\n",
    "        category_id VARCHAR(50) PRIMARY KEY,\n",
    "        category_name VARCHAR(100));\"\"\")\n",
    "print(\"table_1 categories created columns added\")\n",
    "\n",
    "cursor.execute(\"\"\"\n",
    "    create table competitions(\n",
    "    competition_id varchar(50) primary key,\n",
    "    competition_name varchar(100) ,\n",
    "    parent_id varchar(50) ,\n",
    "    type varchar(20),\n",
    "    gender varchar(10) ,\n",
    "    category_id varchar(50),\n",
    "    foreign key (category_id) references categories(category_id));\"\"\")\n",
    "print(\"table_2 competition created columns added\")"
   ]
  },
  {
   "cell_type": "markdown",
   "metadata": {},
   "source": [
    "inserting table into sql_2"
   ]
  },
  {
   "cell_type": "code",
   "execution_count": null,
   "metadata": {},
   "outputs": [],
   "source": [
    "\n",
    "cursor.execute(\"\"\"\n",
    "CREATE TABLE complexes (\n",
    "    complex_id VARCHAR(50)  PRIMARY KEY,\n",
    "    complex_name VARCHAR(100));\"\"\")\n",
    "print(\"table_3 complexes created columns added\")\n",
    "\n",
    "cursor.execute(\"\"\"\n",
    "CREATE TABLE venue (\n",
    "    venue_id varchar(50) PRIMARY KEY, \n",
    "    venue_name varchar(100),\n",
    "    city_name varchar(100) ,\n",
    "    country_name varchar(100) ,\n",
    "    country_code varchar(100),\n",
    "    timezone varchar(100),\n",
    "    complex_id varchar(50),\n",
    "    FOREIGN KEY (complex_id) REFERENCES complexes(complex_id));\"\"\")\n",
    "print(\"Table_4 venues created columns added\")"
   ]
  },
  {
   "cell_type": "markdown",
   "metadata": {},
   "source": [
    "inserting table into sql_3"
   ]
  },
  {
   "cell_type": "code",
   "execution_count": null,
   "metadata": {},
   "outputs": [],
   "source": [
    "\n",
    "\n",
    "cursor.execute(\"\"\"\n",
    "CREATE TABLE Competitors (\n",
    "    competitor_id VARCHAR(50) PRIMARY KEY,\n",
    "    name VARCHAR(100),\n",
    "    country VARCHAR(100),\n",
    "    country_code CHAR(3),\n",
    "    abbreviation VARCHAR(10));\"\"\")\n",
    "print(\"table_5 competitors created column added\")\n",
    "\n",
    "cursor.execute(\"\"\"\n",
    "CREATE TABLE Competitor_Rankings (\n",
    "    rank_id SERIAL PRIMARY KEY, \n",
    "    rank int,\n",
    "    movement INT ,\n",
    "    points INT ,\n",
    "    competitions_played INT ,\n",
    "    competitor_id VARCHAR(50),\n",
    "    FOREIGN KEY (competitor_id) REFERENCES Competitors(competitor_id));\"\"\")\n",
    "print(\"table_6 competitor_ranking created column added\")\n"
   ]
  },
  {
   "cell_type": "code",
   "execution_count": 18,
   "metadata": {},
   "outputs": [],
   "source": [
    "df = pd.read_csv('category_details.csv')\n",
    "df1=pd.read_csv('competition_details.csv')\n",
    "df2=pd.read_csv(\"complex_details.csv\")\n",
    "df3=pd.read_csv(\"venue_details.csv\")\n",
    "df4=pd.read_csv('Competitors_Table.csv')\n",
    "df5=pd.read_csv('Competitor_Rankings_Table.csv')\n",
    "df5['movement'] = df5['movement'].fillna(0)"
   ]
  },
  {
   "cell_type": "code",
   "execution_count": null,
   "metadata": {},
   "outputs": [],
   "source": [
    "insert = \"insert into categories (category_id, category_name) VALUES (%s, %s) ON CONFLICT (category_id) DO NOTHING\"\n",
    "\n",
    "for index, row in df.iterrows():\n",
    "    cursor.execute(insert, (row['category_id'], row['category_name']))\n",
    "\n",
    "insert_query=\"\"\"insert into competitions(competition_id, competition_name, parent_id, type, gender, category_id)\n",
    "VALUES (%s, %s, %s, %s, %s, %s)\n",
    "ON CONFLICT (competition_id) DO UPDATE\n",
    "SET\n",
    "    competition_name = EXCLUDED.competition_name,\n",
    "    parent_id = EXCLUDED.parent_id,\n",
    "    type = EXCLUDED.type,\n",
    "    gender = EXCLUDED.gender,\n",
    "    category_id = EXCLUDED.category_id;\"\"\"\n",
    "\n",
    "for index, row in df1.iterrows():\n",
    "    cursor.execute(insert_query, (\n",
    "        row['competition_id'], \n",
    "        row['competition_name'], \n",
    "        row['parent_id'], \n",
    "        row['type'], \n",
    "        row['gender'], \n",
    "        row['category_id']\n",
    "    ))\n",
    "print(\"success data\")"
   ]
  },
  {
   "cell_type": "code",
   "execution_count": null,
   "metadata": {},
   "outputs": [],
   "source": [
    "insert = \"INSERT INTO complexes (complex_id, complex_name) VALUES (%s, %s)\"\n",
    "\n",
    "for index, row in df2.iterrows():\n",
    "    cursor.execute(insert, (row['complex_id'], row['complex_name']))\n",
    "\n",
    "insert_venue = \"\"\"\n",
    "INSERT INTO venue (venue_id, venue_name, city_name, country_name, country_code, timezone, complex_id) \n",
    "VALUES (%s, %s, %s, %s, %s, %s, %s)\n",
    "\"\"\"\n",
    "\n",
    "for index, row in df3.iterrows():\n",
    "    cursor.execute(insert_venue, (\n",
    "        row['venue_id'], \n",
    "        row['venue_name'], \n",
    "        row['city_name'], \n",
    "        row['country_name'], \n",
    "        row['country_code'], \n",
    "        row['timezone'], \n",
    "        row['complex_id']  \n",
    "    ))\n",
    "\n",
    "print(\"success data\")"
   ]
  },
  {
   "cell_type": "code",
   "execution_count": null,
   "metadata": {},
   "outputs": [],
   "source": [
    "insert = \"\"\" \n",
    "insert into competitors (competitor_id, name, country, country_code, abbreviation)\n",
    "values (%s, %s, %s, %s, %s)\n",
    "on conflict (competitor_id) do nothing\n",
    "\"\"\"\n",
    "\n",
    "for index, row in df4.iterrows():\n",
    "    cursor.execute(insert, (\n",
    "        row['competitor_id'], \n",
    "        row['name'], \n",
    "        row['country'], \n",
    "        row['country_code'], \n",
    "        row['abbreviation']\n",
    "    ))\n",
    "\n",
    "insert_query=\"\"\"\n",
    "insert into Competitor_Rankings(rank , movement , points , competitions_played , competitor_id) \n",
    "values (%s,%s,%s,%s,%s)\n",
    "\"\"\"\n",
    "for index,row in df5.iterrows():\n",
    "    cursor.execute(insert_query,(\n",
    "        row['rank'],\n",
    "        row['movement'],\n",
    "        row['points'],\n",
    "        row['competitions_played'],\n",
    "        row['competitor_id']\n",
    "    ))"
   ]
  },
  {
   "cell_type": "markdown",
   "metadata": {},
   "source": [
    "[query-1]Categories Table--Competitions Table=Data Analysis:\n",
    "-Execute the Following SQL queries;\n",
    "1.List all competitions along with their category name\n",
    "2.Count the number of competitions in each category\n",
    "3.Find all competitions of type 'doubles'\n",
    "4.Get competitions that belong to a specific category (e.g., ITF Men)\n",
    "5.Identify parent competitions and their sub-competitions\n",
    "6.Analyze the distribution of competition types by category\n",
    "7.List all competitions with no parent (top-level competitions)\n"
   ]
  },
  {
   "cell_type": "markdown",
   "metadata": {},
   "source": [
    "1.List all competitions along with their category name"
   ]
  },
  {
   "cell_type": "code",
   "execution_count": null,
   "metadata": {},
   "outputs": [],
   "source": [
    "q1 = \"\"\"\n",
    "SELECT \n",
    "    c.competition_id,\n",
    "    c.competition_name,\n",
    "    c.type,\n",
    "    c.gender,\n",
    "    c.category_id,\n",
    "    cat.category_name\n",
    "FROM \n",
    "    competitions c JOIN categories cat \n",
    "ON \n",
    "c.category_id = cat.category_id;\n",
    "\"\"\"\n",
    "cursor.execute(q1)\n",
    "out_1 = cursor.fetchall()\n",
    "print(\"competitons along with their category_name:--\\n\")\n",
    "for fetch in out_1:\n",
    "    print(fetch)\n"
   ]
  },
  {
   "cell_type": "markdown",
   "metadata": {},
   "source": [
    "2.Count the number of competitions in each category"
   ]
  },
  {
   "cell_type": "code",
   "execution_count": null,
   "metadata": {},
   "outputs": [],
   "source": [
    "q2 = \"\"\"\n",
    "SELECT \n",
    "    cat.category_name, \n",
    "    COUNT(c.competition_id) \n",
    "FROM \n",
    "    competitions c JOIN  categories cat \n",
    "ON\n",
    " c.category_id = cat.category_id\n",
    "GROUP BY \n",
    "    cat.category_name;\n",
    "\"\"\"\n",
    "cursor.execute(q2)\n",
    "out_2 = cursor.fetchall()\n",
    "print(\"\\n2. Number of competitions in each category:\")\n",
    "for fetch in out_2:\n",
    "    print(fetch)"
   ]
  },
  {
   "cell_type": "markdown",
   "metadata": {},
   "source": [
    "3.Find all competitions of type 'doubles'"
   ]
  },
  {
   "cell_type": "code",
   "execution_count": null,
   "metadata": {},
   "outputs": [],
   "source": [
    "query3 = \"\"\"\n",
    "SELECT \n",
    "    competition_id,\n",
    "    competition_name,\n",
    "    type\n",
    "FROM \n",
    "    competitions\n",
    "WHERE \n",
    "    type = 'doubles';\n",
    "\"\"\"\n",
    "cursor.execute(query3)\n",
    "result3 = cursor.fetchall()\n",
    "print(\"\\n3. All competitions of type 'doubles':\")\n",
    "for row in result3:\n",
    "    print(row)"
   ]
  },
  {
   "cell_type": "markdown",
   "metadata": {},
   "source": [
    "4.Get competitions that belong to a specific category (e.g., ITF Men)\n"
   ]
  },
  {
   "cell_type": "code",
   "execution_count": null,
   "metadata": {},
   "outputs": [],
   "source": [
    "category_id = 'sr:category:3'  \n",
    "query4 = f\"\"\"\n",
    "SELECT \n",
    "    competition_id,\n",
    "    competition_name,\n",
    "    category_id\n",
    "FROM \n",
    "    competitions\n",
    "WHERE \n",
    "    category_id = '{category_id}';\n",
    "\"\"\"\n",
    "cursor.execute(query4)\n",
    "result4 = cursor.fetchall()\n",
    "print(f\"\\n4. Competitions of category {category_id}:\")\n",
    "for row in result4:\n",
    "    print(row)"
   ]
  },
  {
   "cell_type": "markdown",
   "metadata": {},
   "source": [
    "Query 5: Identify parent competitions and their sub-competition"
   ]
  },
  {
   "cell_type": "code",
   "execution_count": null,
   "metadata": {},
   "outputs": [],
   "source": [
    "query5 = \"\"\"\n",
    "SELECT \n",
    "    parent.competition_id AS parent_id,\n",
    "    parent.competition_name AS parent_name,\n",
    "    sub.competition_id AS sub_competition_id,\n",
    "    sub.competition_name AS sub_competition_name\n",
    "FROM \n",
    "    competitions parent\n",
    "JOIN \n",
    "    competitions sub ON parent.competition_id = sub.parent_id\n",
    "WHERE \n",
    "    parent.parent_id IS NULL;\n",
    "\"\"\"\n",
    "cursor.execute(query5)\n",
    "result5 = cursor.fetchall()\n",
    "print(\"\\n5. Parent competitions and their sub-competitions:\")\n",
    "for row in result5:\n",
    "    print(row)"
   ]
  },
  {
   "cell_type": "markdown",
   "metadata": {},
   "source": [
    " Query 6: Analyze the distribution of competition types by category"
   ]
  },
  {
   "cell_type": "code",
   "execution_count": null,
   "metadata": {},
   "outputs": [],
   "source": [
    "query6 = \"\"\"\n",
    "SELECT \n",
    "    cat.category_name,\n",
    "    c.type,\n",
    "    COUNT(c.competition_id) AS competition_count\n",
    "FROM \n",
    "    competitions c\n",
    "JOIN \n",
    "    categories cat ON c.category_id = cat.category_id\n",
    "GROUP BY \n",
    "    cat.category_name, c.type\n",
    "ORDER BY \n",
    "    cat.category_name, c.type;\n",
    "\"\"\"\n",
    "cursor.execute(query6)\n",
    "result6 = cursor.fetchall()\n",
    "print(\"\\n6. Distribution of competition types by category:\")\n",
    "for row in result6:\n",
    "    print(row)\n"
   ]
  },
  {
   "cell_type": "markdown",
   "metadata": {},
   "source": [
    "Query 7: List all competitions with no parent (top-level competitions)"
   ]
  },
  {
   "cell_type": "code",
   "execution_count": null,
   "metadata": {},
   "outputs": [],
   "source": [
    "query7 = \"\"\"\n",
    "SELECT \n",
    "    competition_id,\n",
    "    competition_name\n",
    "FROM \n",
    "    competitions\n",
    "WHERE \n",
    "    parent_id is null;\n",
    "\"\"\"\n",
    "cursor.execute(query7)\n",
    "result7 = cursor.fetchall()\n",
    "print(\"\\nall competitions with no parent (top-level competitions)\")\n",
    "for row in result7:\n",
    "    print(row)"
   ]
  },
  {
   "cell_type": "markdown",
   "metadata": {},
   "source": [
    "[query-2]Execute the following SQL queries:\n",
    "1.List all venues along with their associated complex name\n",
    "2.Count the number of venues in each complex\n",
    "3.Get details of venues in a specific country (e.g., Chile)\n",
    "4.Identify all venues and their timezones\n",
    "5.Find complexes that have more than one venue\n",
    "6.List venues grouped by country\n",
    "7.Find all venues for a specific complex (e.g., Nacional)\n"
   ]
  },
  {
   "cell_type": "code",
   "execution_count": null,
   "metadata": {},
   "outputs": [],
   "source": [
    "query1 = \"\"\"\n",
    "SELECT \n",
    "    v.venue_name, \n",
    "    c.complex_name\n",
    "FROM \n",
    "    venue v\n",
    "LEFT JOIN \n",
    "    complexes c \n",
    "ON \n",
    "    v.complex_id = c.complex_id;\n",
    "\"\"\"\n",
    "cursor.execute(query1)\n",
    "result1 = cursor.fetchall()\n",
    "print(\"\\nVenues along with their associated complex name:\")\n",
    "for row in result1:\n",
    "    print(row)"
   ]
  },
  {
   "cell_type": "code",
   "execution_count": null,
   "metadata": {},
   "outputs": [],
   "source": [
    "query2 = \"\"\"\n",
    "SELECT \n",
    "    c.complex_name, \n",
    "    COUNT(v.venue_id) AS venue_count\n",
    "FROM \n",
    "    complexes c\n",
    "LEFT JOIN \n",
    "    venue v \n",
    "ON \n",
    "    c.complex_id = v.complex_id\n",
    "GROUP BY \n",
    "    c.complex_name;\n",
    "\"\"\"\n",
    "cursor.execute(query2)\n",
    "result2 = cursor.fetchall()\n",
    "print(\"\\nNumber of venues in each complex:\")\n",
    "for row in result2:\n",
    "    print(row)"
   ]
  },
  {
   "cell_type": "code",
   "execution_count": null,
   "metadata": {},
   "outputs": [],
   "source": [
    "query3 = \"\"\"\n",
    "SELECT \n",
    "    venue_name, \n",
    "    city_name, \n",
    "    country_name, \n",
    "    timezone\n",
    "FROM \n",
    "    venue\n",
    "WHERE \n",
    "    country_name = 'Chile';\n",
    "\"\"\"\n",
    "cursor.execute(query3)\n",
    "result3 = cursor.fetchall()\n",
    "print(\"\\nVenues in Chile:\")\n",
    "for row in result3:\n",
    "    print(row)"
   ]
  },
  {
   "cell_type": "code",
   "execution_count": null,
   "metadata": {},
   "outputs": [],
   "source": [
    "query4 = \"\"\"\n",
    "SELECT \n",
    "    venue_name, \n",
    "    timezone\n",
    "FROM \n",
    "    venue;\n",
    "\"\"\"\n",
    "cursor.execute(query4)\n",
    "result4 = cursor.fetchall()\n",
    "print(\"\\nVenues and their timezones:\")\n",
    "for row in result4:\n",
    "    print(row)"
   ]
  },
  {
   "cell_type": "code",
   "execution_count": null,
   "metadata": {},
   "outputs": [],
   "source": [
    "query5 = \"\"\"\n",
    "SELECT \n",
    "    c.complex_name, \n",
    "    COUNT(v.venue_id) AS venue_count\n",
    "FROM \n",
    "    complexes c\n",
    "JOIN \n",
    "    venue v \n",
    "ON \n",
    "    c.complex_id = v.complex_id\n",
    "GROUP BY \n",
    "    c.complex_name\n",
    "HAVING \n",
    "    COUNT(v.venue_id) > 1;\n",
    "\"\"\"\n",
    "cursor.execute(query5)\n",
    "result5 = cursor.fetchall()\n",
    "print(\"\\nComplexes with more than one venue:\")\n",
    "for row in result5:\n",
    "    print(row)"
   ]
  },
  {
   "cell_type": "code",
   "execution_count": null,
   "metadata": {},
   "outputs": [],
   "source": [
    "query6 = \"\"\"\n",
    "SELECT \n",
    "    country_name, \n",
    "    ARRAY_AGG(venue_name) AS venues\n",
    "FROM \n",
    "    venue\n",
    "GROUP BY \n",
    "    country_name;\n",
    "\"\"\"\n",
    "cursor.execute(query6)\n",
    "result6 = cursor.fetchall()\n",
    "print(\"\\nVenues grouped by country:\")\n",
    "for row in result6:\n",
    "    print(row)"
   ]
  },
  {
   "cell_type": "markdown",
   "metadata": {},
   "source": [
    "7. Find all venues for a specific complex (e.g., Nacional)\n"
   ]
  },
  {
   "cell_type": "code",
   "execution_count": null,
   "metadata": {},
   "outputs": [],
   "source": [
    "complex_name='Palais des sports de Gerland'\n",
    "query7 =f\"\"\"\n",
    "SELECT \n",
    "    venue_name\n",
    "FROM \n",
    "    venue\n",
    "WHERE \n",
    "    complex_id = (SELECT complex_id FROM complexes WHERE complex_name = '{complex_name}');\n",
    "\"\"\"\n",
    "cursor.execute(query7)\n",
    "result7 = cursor.fetchall()\n",
    "print(f\"\\nVenues for the Nacional complex:{complex_name}\")\n",
    "for row in result7:\n",
    "    print(row)\n",
    "\n"
   ]
  },
  {
   "cell_type": "code",
   "execution_count": null,
   "metadata": {},
   "outputs": [],
   "source": [
    "query1 = \"\"\"\n",
    "SELECT \n",
    "    cr.competitor_id, \n",
    "    cr.rank, \n",
    "    cr.points \n",
    "FROM \n",
    "    Competitor_Rankings cr;\n",
    "\"\"\"\n",
    "cursor.execute(query1)\n",
    "result1 = cursor.fetchall()\n",
    "print(\"\\nAll competitors with their rank and points:\")\n",
    "for row in result1:\n",
    "    print(row)"
   ]
  },
  {
   "cell_type": "code",
   "execution_count": null,
   "metadata": {},
   "outputs": [],
   "source": [
    "query2 = \"\"\"\n",
    "SELECT \n",
    "    cr.competitor_id, \n",
    "    cr.rank, \n",
    "    cr.points \n",
    "FROM \n",
    "    Competitor_Rankings cr \n",
    "WHERE \n",
    "    cr.rank <= 5;\n",
    "\"\"\"\n",
    "cursor.execute(query2)\n",
    "result2 = cursor.fetchall()\n",
    "print(\"\\nTop 5 ranked competitors:\")\n",
    "for row in result2:\n",
    "    print(row)"
   ]
  },
  {
   "cell_type": "code",
   "execution_count": null,
   "metadata": {},
   "outputs": [],
   "source": [
    "query3 = \"\"\"\n",
    "SELECT \n",
    "    cr.competitor_id, \n",
    "    cr.rank, \n",
    "    cr.points \n",
    "FROM \n",
    "    Competitor_Rankings cr \n",
    "WHERE \n",
    "    cr.movement = 0;\n",
    "\"\"\"\n",
    "cursor.execute(query3)\n",
    "result3 = cursor.fetchall()\n",
    "print(\"\\nCompetitors with stable rank (no movement):\")\n",
    "for row in result3:\n",
    "    print(row)\n"
   ]
  },
  {
   "cell_type": "code",
   "execution_count": null,
   "metadata": {},
   "outputs": [],
   "source": [
    "query4 = \"\"\"\n",
    "SELECT \n",
    "    SUM(cr.points) \n",
    "FROM \n",
    "    Competitor_Rankings cr \n",
    "JOIN \n",
    "    Competitors c ON cr.competitor_id = c.competitor_id\n",
    "WHERE \n",
    "    c.country = 'Croatia';\n",
    "\"\"\"\n",
    "cursor.execute(query4)\n",
    "result4 = cursor.fetchall()\n",
    "print(\"\\nTotal points of competitors from Croatia:\")\n",
    "for row in result4:\n",
    "    print(row)"
   ]
  },
  {
   "cell_type": "code",
   "execution_count": null,
   "metadata": {},
   "outputs": [],
   "source": [
    "query5 = \"\"\"\n",
    "SELECT \n",
    "    c.country, \n",
    "    COUNT(cr.competitor_id) AS competitor_count\n",
    "FROM \n",
    "    Competitor_Rankings cr\n",
    "JOIN \n",
    "    Competitors c ON cr.competitor_id = c.competitor_id\n",
    "GROUP BY \n",
    "    c.country;\n",
    "\"\"\"\n",
    "cursor.execute(query5)\n",
    "result5 = cursor.fetchall()\n",
    "print(\"\\nNumber of competitors per country:\")\n",
    "for row in result5:\n",
    "    print(row)"
   ]
  },
  {
   "cell_type": "code",
   "execution_count": null,
   "metadata": {},
   "outputs": [],
   "source": [
    "query6 = \"\"\"\n",
    "SELECT \n",
    "    cr.competitor_id, \n",
    "    cr.rank, \n",
    "    cr.points \n",
    "FROM \n",
    "    Competitor_Rankings cr\n",
    "ORDER BY \n",
    "    cr.points DESC \n",
    "LIMIT 1;\n",
    "\"\"\"\n",
    "cursor.execute(query6)\n",
    "result6 = cursor.fetchall()\n",
    "print(\"\\nCompetitors with the highest points:\")\n",
    "for row in result6:\n",
    "    print(row)\n"
   ]
  },
  {
   "cell_type": "code",
   "execution_count": null,
   "metadata": {},
   "outputs": [],
   "source": []
  },
  {
   "cell_type": "code",
   "execution_count": null,
   "metadata": {},
   "outputs": [],
   "source": []
  }
 ],
 "metadata": {
  "kernelspec": {
   "display_name": "Python 3",
   "language": "python",
   "name": "python3"
  },
  "language_info": {
   "codemirror_mode": {
    "name": "ipython",
    "version": 3
   },
   "file_extension": ".py",
   "mimetype": "text/x-python",
   "name": "python",
   "nbconvert_exporter": "python",
   "pygments_lexer": "ipython3",
   "version": "3.10.0"
  }
 },
 "nbformat": 4,
 "nbformat_minor": 2
}
